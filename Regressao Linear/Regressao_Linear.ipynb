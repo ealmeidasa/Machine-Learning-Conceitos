{
 "cells": [
  {
   "cell_type": "markdown",
   "metadata": {},
   "source": [
    "#  <font size=\"10\"> <p style='text-align: center;'>**Regressão Linear Simples**</p> </font-family> </font>\n",
    "    \n",
    "### **Precisamos prever o valor de uma pizza com base em seu tamanho.**"
   ]
  },
  {
   "cell_type": "markdown",
   "metadata": {},
   "source": [
    "### <p style='text-align: center;'>**Importando as Bibliotecas**</p> "
   ]
  },
  {
   "cell_type": "code",
   "execution_count": 245,
   "metadata": {},
   "outputs": [],
   "source": [
    "import matplotlib.pyplot as plt\n",
    "from sklearn.metrics import mean_squared_error\n",
    "from sklearn.linear_model import LinearRegression\n",
    "import numpy as np\n",
    "import pandas as pd"
   ]
  },
  {
   "cell_type": "markdown",
   "metadata": {},
   "source": [
    "### <p style='text-align: center;'>**Criando as variáveis**</p> "
   ]
  },
  {
   "cell_type": "code",
   "execution_count": null,
   "metadata": {},
   "outputs": [],
   "source": [
    "Tamanho = [[6], [8], [10], [14], [18]]\n",
    "preço = [[7], [9], [13], [17.5], [18]]"
   ]
  },
  {
   "cell_type": "code",
   "execution_count": 65,
   "metadata": {},
   "outputs": [
    {
     "name": "stdout",
     "output_type": "stream",
     "text": [
      "[[6], [8], [10], [14], [18]]\n"
     ]
    }
   ],
   "source": [
    "print (Tamanho)"
   ]
  },
  {
   "cell_type": "markdown",
   "metadata": {},
   "source": [
    "### <p style='text-align: center;'>**Representando as variaveis graficamente**</p> "
   ]
  },
  {
   "cell_type": "code",
   "execution_count": null,
   "metadata": {},
   "outputs": [],
   "source": [
    "plt.figure()\n",
    "plt.title('Preço e Tamanho')\n",
    "plt.xlabel('Diametro')\n",
    "plt.ylabel('Preço')\n",
    "plt.plot(Tamanho, preço, 'k.')\n",
    "plt.axis([0, 25, 0, 25])\n",
    "plt.grid(True)\n",
    "plt.show()"
   ]
  },
  {
   "cell_type": "markdown",
   "metadata": {},
   "source": [
    "### <p style='text-align: center;'>**Treinando o Modelo**</p> \n",
    "\n",
    "#### O modelo irá aprender a calcular o coefiente para atingir os valores esperados"
   ]
  },
  {
   "cell_type": "code",
   "execution_count": null,
   "metadata": {},
   "outputs": [],
   "source": [
    "# Passamos a formula matemática\n",
    "model = LinearRegression() \n",
    "# Treinamos o nosso modelo\n",
    "model.fit(Tamanho, preço)"
   ]
  },
  {
   "cell_type": "markdown",
   "metadata": {},
   "source": [
    "### <p style='text-align: center;'>**Homologando o Modelo**</p> \n",
    "#### Aqui o modelo é treinado com dados que ele não conhece"
   ]
  },
  {
   "cell_type": "code",
   "execution_count": 151,
   "metadata": {},
   "outputs": [],
   "source": [
    "Tamanho_Hom = [[19],[42],[50]]\n",
    "preço_hom = [[22.60],[43.5],[51.60]]\n",
    "predito = model.predict(Tamanho_Hom)"
   ]
  },
  {
   "cell_type": "markdown",
   "metadata": {},
   "source": [
    "### <p style='text-align: center;'>**Validando o Modelo**</p> "
   ]
  },
  {
   "cell_type": "code",
   "execution_count": 157,
   "metadata": {},
   "outputs": [
    {
     "name": "stdout",
     "output_type": "stream",
     "text": [
      "Linear Regression Resultados\n",
      "\n",
      "Comparando os valores\n",
      "   real    predito  diferença\n",
      "0    19  20.515086  -1.515086\n",
      "1    42  42.969828  -0.969828\n",
      "2    50  50.780172  -0.780172\n",
      "\n",
      "Eficiência do treinamento:   0.9100015964240102\n",
      "O erro médio foi:            1.7666885280420317\n",
      "A eficência do modelo foi:   0.9881643888341857\n"
     ]
    }
   ],
   "source": [
    "real      = pd.DataFrame(Tamanho_Hom, columns=['real'])\n",
    "predito   = pd.DataFrame(model.predict(Tamanho_Hom), columns=['predito'])\n",
    "resultado = pd.concat([real, predito], axis=1, sort=False)\n",
    "resultado['diferença'] = resultado['real'] - resultado['predito']\n",
    "print (\"Linear Regression Resultados\" )\n",
    "print (\"\\nComparando os valores\" )\n",
    "print(resultado)\n",
    "print('\\nEficiência do treinamento:  ', model.score(Tamanho, preço))\n",
    "# Calculando o erro médio\n",
    "# Quanto mais próximo de zero melhor, significa que o modelo está errando pouco\n",
    "print('O erro médio foi:           ', mean_squared_error(preço_hom, model.predict(Tamanho_Hom)))\n",
    "print('A eficência do modelo foi:  ', model.score(Tamanho_Hom, preço_hom))"
   ]
  },
  {
   "cell_type": "code",
   "execution_count": 244,
   "metadata": {},
   "outputs": [
    {
     "data": {
      "text/plain": [
       "<matplotlib.legend.Legend at 0x7f603bfc1580>"
      ]
     },
     "execution_count": 244,
     "metadata": {},
     "output_type": "execute_result"
    },
    {
     "data": {
      "image/png": "[encoded data removed]",
      "text/plain": [
       "<Figure size 432x288 with 1 Axes>"
      ]
     },
     "metadata": {
      "needs_background": "light"
     },
     "output_type": "display_data"
    }
   ],
   "source": [
    "%matplotlib inline\n",
    "plt.ylabel('Preços')\n",
    "plt.xlabel('Indices')\n",
    "plt.title('Valores Preditos vs Valores Reais')\n",
    "plt.plot(real,'k.', color='b', marker='o', label='Valor Real')\n",
    "plt.plot(predito,'k.', color='r', marker='o',label='Valor Predito')\n",
    "plt.legend(['Valor Real','Valor Predito'])"
   ]
  },
  {
   "cell_type": "markdown",
   "metadata": {},
   "source": [
    "### <p style='text-align: center;'>**Trabalhando em Produção**</p> "
   ]
  },
  {
   "cell_type": "code",
   "execution_count": null,
   "metadata": {},
   "outputs": [],
   "source": [
    "Pizza = [[25],[32],[40],[60]]\n",
    "predito = model.predict(Pizza)\n",
    "predito"
   ]
  }
 ],
 "metadata": {
  "kernelspec": {
   "display_name": "Python 3",
   "language": "python",
   "name": "python3"
  },
  "language_info": {
   "codemirror_mode": {
    "name": "ipython",
    "version": 3
   },
   "file_extension": ".py",
   "mimetype": "text/x-python",
   "name": "python",
   "nbconvert_exporter": "python",
   "pygments_lexer": "ipython3",
   "version": "3.8.3"
  }
 },
 "nbformat": 4,
 "nbformat_minor": 4
}
